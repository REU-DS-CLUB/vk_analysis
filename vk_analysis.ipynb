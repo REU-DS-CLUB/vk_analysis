{
  "cells": [
    {
      "cell_type": "markdown",
      "metadata": {
        "id": "8TOm-x9mWWNa"
      },
      "source": [
        "### Libraries"
      ]
    },
    {
      "cell_type": "code",
      "execution_count": null,
      "metadata": {
        "colab": {
          "base_uri": "https://localhost:8080/"
        },
        "id": "AzbDDbNG195s",
        "outputId": "5dffd5d2-0159-4b29-f5f5-2589e0c57386"
      },
      "outputs": [
        {
          "output_type": "stream",
          "name": "stdout",
          "text": [
            "Collecting vk_api\n",
            "  Downloading vk_api-11.9.7-py3-none-any.whl (48 kB)\n",
            "\u001b[?25l\r\u001b[K     |██████▊                         | 10 kB 20.1 MB/s eta 0:00:01\r\u001b[K     |█████████████▌                  | 20 kB 11.7 MB/s eta 0:00:01\r\u001b[K     |████████████████████▎           | 30 kB 10.3 MB/s eta 0:00:01\r\u001b[K     |███████████████████████████     | 40 kB 4.5 MB/s eta 0:00:01\r\u001b[K     |████████████████████████████████| 48 kB 2.5 MB/s \n",
            "\u001b[?25hRequirement already satisfied: requests in /usr/local/lib/python3.7/dist-packages (from vk_api) (2.23.0)\n",
            "Requirement already satisfied: certifi>=2017.4.17 in /usr/local/lib/python3.7/dist-packages (from requests->vk_api) (2021.10.8)\n",
            "Requirement already satisfied: urllib3!=1.25.0,!=1.25.1,<1.26,>=1.21.1 in /usr/local/lib/python3.7/dist-packages (from requests->vk_api) (1.24.3)\n",
            "Requirement already satisfied: idna<3,>=2.5 in /usr/local/lib/python3.7/dist-packages (from requests->vk_api) (2.10)\n",
            "Requirement already satisfied: chardet<4,>=3.0.2 in /usr/local/lib/python3.7/dist-packages (from requests->vk_api) (3.0.4)\n",
            "Installing collected packages: vk-api\n",
            "Successfully installed vk-api-11.9.7\n"
          ]
        }
      ],
      "source": [
        "!pip install vk_api"
      ]
    },
    {
      "cell_type": "code",
      "execution_count": null,
      "metadata": {
        "id": "jx-eHoq4cCKh"
      },
      "outputs": [],
      "source": [
        "import pandas as pd\n",
        "from datetime import datetime\n",
        "import matplotlib.pyplot as plt\n",
        "import vk_api\n",
        "import datetime\n",
        "import time\n"
      ]
    },
    {
      "cell_type": "markdown",
      "metadata": {
        "id": "xRhepoeZWTsM"
      },
      "source": [
        "### VK API"
      ]
    },
    {
      "cell_type": "markdown",
      "metadata": {
        "id": "uCvKZc1AdLnM"
      },
      "source": [
        "1. Получение токена https://oauth.vk.com/authorize?client_id=5440699&display=page&redirect_uri=vk.com/callback&response_type=token&v=5.80&scope=offline\n",
        "Ответом будет служить подобная строка в браузере:\n",
        "https://api.vk.com/blank.html#access_token=d4043818e4b2a6c21b83ecb7fe1b1f7ce646232ee98938970ab8862749dd710e94b18f90975f4d41ea25f&expires_in=86400&user_id=133405960 где набор символов после \"access_token=\" и до \"&expires_in=86400\" и есть токен. В конце указывается id (идентификатор в социальной сети Вконтакте) пользователя.\n",
        "2. Необходимо к ознакомлению:\n",
        "https://dev.vk.com/method/utils.getShortLink\n",
        "https://dev.vk.com/method/utils.getLinkStats\n",
        "\n"
      ]
    },
    {
      "cell_type": "code",
      "execution_count": null,
      "metadata": {
        "id": "ip5amMtlcCKo"
      },
      "outputs": [],
      "source": [
        "token = '95c141b46601ae807c5c5a95179354006c57c77929839a4fd77c03a97287bd82fc9f45d17b997294a1611'"
      ]
    },
    {
      "cell_type": "code",
      "execution_count": null,
      "metadata": {
        "id": "2vptv_-aeiui"
      },
      "outputs": [],
      "source": [
        "link = 'https://docs.google.com/forms/d/e/1FAIpQLSfKtUbT3qzkRLLYP0tOfvlRHqiUH3as0Mi3mV06Yi8poCcw1Q/viewform'"
      ]
    },
    {
      "cell_type": "code",
      "execution_count": null,
      "metadata": {
        "id": "hXc7RoLlWHhY"
      },
      "outputs": [],
      "source": [
        "vk = vk_api.VkApi(token = token)\n",
        "vk._auth_token()\n",
        "\n"
      ]
    },
    {
      "cell_type": "markdown",
      "source": [
        "### Functions\n"
      ],
      "metadata": {
        "id": "Tbheh4DUpq4Y"
      }
    },
    {
      "cell_type": "code",
      "source": [
        "def get_token():\n",
        "    link_token = 'https://oauth.vk.com/authorize?client_id=5440699&display=page&redirect_uri=vk.com/callback&response_type=token&v=5.80&scope=offline'\n",
        "    return 'Use this link to get your token. It will be after \"access_token=\" and before \"&expires_in=86400\":', str(link_token)\n",
        "  \n",
        "def parse_data_from_table(file_name, sheet_number = None, column = None) -> list:\n",
        "  if sheet_number is None or column is None:\n",
        "    raise ValueError(\"Column or Sheet number where abbreviations are stored should be included in the input\")\n",
        "  if \".xlsx\" not in file_name:\n",
        "    file_name += \".xlsx\"\n",
        "  data = pd.read_excel(file_name, sheet_name= sheet_number)\n",
        "  data = [x for x in data[data.columns[column]]]\n",
        "  \n",
        "\n",
        "  return data\n",
        "\n",
        "\n",
        "def create_unique_link(abbreviations: list, add_link: str) -> list:\n",
        "  if abbreviations is str:\n",
        "    raise ValueError(\"abbreviation should be put into a list\")\n",
        "\n",
        "  temp_list = []\n",
        "  # фильтрация абревиатур\n",
        "  for abb in abbreviations:\n",
        "    if str(abb) == 'nan':\n",
        "      temp_list.append('')\n",
        "    else:\n",
        "        temp_list.append(add_link+ '?utm_source=' + abb)\n",
        "  return temp_list\n",
        "  \n",
        "\n",
        "def create_short_links(links:list, private=0) -> list:\n",
        "  #links should be generated via the function: create_short_links\n",
        "  #private=1 if it is for private use only\n",
        "  \n",
        "  if links is not None:\n",
        "    short_links = []\n",
        "    for i in range(len(links)):\n",
        "      time.sleep(0.5)\n",
        "      l = links[i]\n",
        "    \n",
        "      if l is not None and l != \"\" and l != \" \" :\n",
        "        short_links.append(vk.method(\"utils.getShortLink\", {'url': l, 'private': private})['short_url'])\n",
        "  else:\n",
        "    raise ValueError(\"Column where abbreviations are stored should be included in the input\")\n",
        "    return None\n",
        "\n",
        "  return short_links\n",
        "  \n",
        "\n",
        "def view_stats(key, interval='day', intervals_count=90, extended=0):\n",
        "  #extended=1 if sex, age, country, city of viewers are needed\n",
        "  #intervals_count cannot be set as 0\n",
        "  key = key[14:]\n",
        "  dict_stats = vk.method(\"utils.getLinkStats\", {'key': key, 'interval': interval, 'extended': extended, 'intervals_count': intervals_count})['stats']\n",
        "  stat = []\n",
        "  for list in dict_stats:\n",
        "    t_arr = [datetime.datetime.utcfromtimestamp(list['timestamp']).strftime('%d.%m.%Y'), list['views']]\n",
        "    stat.append(t_arr)\n",
        "  stat.reverse()\n",
        "  return stat\n",
        "  \n",
        "def visualize_stats(key, x_name ='', y_name = 'Views', title_name= \"\"):\n",
        "  #visualization of stats\n",
        "    if title_name == \"\": \n",
        "      title_name = key\n",
        "\n",
        "    dataFrame = view_stats(key, intervals_count=10)\n",
        "\n",
        "    df = pd.DataFrame(dataFrame,  columns=[x_name,title_name])\n",
        "\n",
        "    graph = df.plot(x_name, title_name)\n",
        "    \n",
        "    graph.set_title(title_name)\n",
        "    plt.xticks(rotation = 45)\n",
        "    graph.set_ylabel('Views')\n",
        "    graph.grid()\n",
        "    plt.show()"
      ],
      "metadata": {
        "id": "P4xkdWvnqF-5"
      },
      "execution_count": null,
      "outputs": []
    },
    {
      "cell_type": "markdown",
      "source": [
        "### Test"
      ],
      "metadata": {
        "id": "GzWeoH3H0agl"
      }
    },
    {
      "cell_type": "code",
      "source": [
        "abb = parse_data_from_table(file_name=\"partners.xlsx\", sheet_number=1,column=1)\n",
        "abb.append('viewform')\n",
        "abb"
      ],
      "metadata": {
        "id": "x49mlur50llD",
        "colab": {
          "base_uri": "https://localhost:8080/"
        },
        "outputId": "2545aa4b-8170-482e-b967-c7fc79ad0f74"
      },
      "execution_count": null,
      "outputs": [
        {
          "output_type": "execute_result",
          "data": {
            "text/plain": [
              "[nan,\n",
              " nan,\n",
              " 'it_works',\n",
              " 'career_hse',\n",
              " 'career_mipi',\n",
              " 'cc_fin',\n",
              " 'cc_mipi',\n",
              " 'training_mipi',\n",
              " 'career_bauman',\n",
              " 'career_n_entrepreneurship',\n",
              " 'inst_inf_tech',\n",
              " 'career_mirea',\n",
              " 'sno_fin',\n",
              " 'cc_guu',\n",
              " 'ds_ru',\n",
              " 'datapedia',\n",
              " 'datascience',\n",
              " 'fu_case_school',\n",
              " 'fu_case_club',\n",
              " 'hse_case_club',\n",
              " 'brainz_croc',\n",
              " nan,\n",
              " nan,\n",
              " 'case_club',\n",
              " 'career_ideit',\n",
              " 'fairway',\n",
              " 'sno',\n",
              " 'cvsk',\n",
              " 'ss',\n",
              " 'ideit',\n",
              " 'viewform']"
            ]
          },
          "metadata": {},
          "execution_count": 9
        }
      ]
    },
    {
      "cell_type": "code",
      "source": [
        "\n",
        "data = create_unique_link(abb, link)\n",
        "\n",
        "#data.append(\"https://docs.google.com/forms/d/e/1FAIpQLSfKtUbT3qzkRLLYP0tOfvlRHqiUH3as0Mi3mV06Yi8poCcw1Q/viewform\")\n",
        "#data = [\"https://docs.google.com/forms/d/e/1FAIpQLSfKtUbT3qzkRLLYP0tOfvlRHqiUH3as0Mi3mV06Yi8poCcw1Q/viewform\"]\n",
        "data\n"
      ],
      "metadata": {
        "id": "LrPYuC_g0krU",
        "colab": {
          "base_uri": "https://localhost:8080/"
        },
        "outputId": "4df31b68-8acb-4185-a568-010ffb554b07"
      },
      "execution_count": null,
      "outputs": [
        {
          "output_type": "execute_result",
          "data": {
            "text/plain": [
              "['',\n",
              " '',\n",
              " 'https://docs.google.com/forms/d/e/1FAIpQLSfKtUbT3qzkRLLYP0tOfvlRHqiUH3as0Mi3mV06Yi8poCcw1Q/viewform?utm_source=it_works',\n",
              " 'https://docs.google.com/forms/d/e/1FAIpQLSfKtUbT3qzkRLLYP0tOfvlRHqiUH3as0Mi3mV06Yi8poCcw1Q/viewform?utm_source=career_hse',\n",
              " 'https://docs.google.com/forms/d/e/1FAIpQLSfKtUbT3qzkRLLYP0tOfvlRHqiUH3as0Mi3mV06Yi8poCcw1Q/viewform?utm_source=career_mipi',\n",
              " 'https://docs.google.com/forms/d/e/1FAIpQLSfKtUbT3qzkRLLYP0tOfvlRHqiUH3as0Mi3mV06Yi8poCcw1Q/viewform?utm_source=cc_fin',\n",
              " 'https://docs.google.com/forms/d/e/1FAIpQLSfKtUbT3qzkRLLYP0tOfvlRHqiUH3as0Mi3mV06Yi8poCcw1Q/viewform?utm_source=cc_mipi',\n",
              " 'https://docs.google.com/forms/d/e/1FAIpQLSfKtUbT3qzkRLLYP0tOfvlRHqiUH3as0Mi3mV06Yi8poCcw1Q/viewform?utm_source=training_mipi',\n",
              " 'https://docs.google.com/forms/d/e/1FAIpQLSfKtUbT3qzkRLLYP0tOfvlRHqiUH3as0Mi3mV06Yi8poCcw1Q/viewform?utm_source=career_bauman',\n",
              " 'https://docs.google.com/forms/d/e/1FAIpQLSfKtUbT3qzkRLLYP0tOfvlRHqiUH3as0Mi3mV06Yi8poCcw1Q/viewform?utm_source=career_n_entrepreneurship',\n",
              " 'https://docs.google.com/forms/d/e/1FAIpQLSfKtUbT3qzkRLLYP0tOfvlRHqiUH3as0Mi3mV06Yi8poCcw1Q/viewform?utm_source=inst_inf_tech',\n",
              " 'https://docs.google.com/forms/d/e/1FAIpQLSfKtUbT3qzkRLLYP0tOfvlRHqiUH3as0Mi3mV06Yi8poCcw1Q/viewform?utm_source=career_mirea',\n",
              " 'https://docs.google.com/forms/d/e/1FAIpQLSfKtUbT3qzkRLLYP0tOfvlRHqiUH3as0Mi3mV06Yi8poCcw1Q/viewform?utm_source=sno_fin',\n",
              " 'https://docs.google.com/forms/d/e/1FAIpQLSfKtUbT3qzkRLLYP0tOfvlRHqiUH3as0Mi3mV06Yi8poCcw1Q/viewform?utm_source=cc_guu',\n",
              " 'https://docs.google.com/forms/d/e/1FAIpQLSfKtUbT3qzkRLLYP0tOfvlRHqiUH3as0Mi3mV06Yi8poCcw1Q/viewform?utm_source=ds_ru',\n",
              " 'https://docs.google.com/forms/d/e/1FAIpQLSfKtUbT3qzkRLLYP0tOfvlRHqiUH3as0Mi3mV06Yi8poCcw1Q/viewform?utm_source=datapedia',\n",
              " 'https://docs.google.com/forms/d/e/1FAIpQLSfKtUbT3qzkRLLYP0tOfvlRHqiUH3as0Mi3mV06Yi8poCcw1Q/viewform?utm_source=datascience',\n",
              " 'https://docs.google.com/forms/d/e/1FAIpQLSfKtUbT3qzkRLLYP0tOfvlRHqiUH3as0Mi3mV06Yi8poCcw1Q/viewform?utm_source=fu_case_school',\n",
              " 'https://docs.google.com/forms/d/e/1FAIpQLSfKtUbT3qzkRLLYP0tOfvlRHqiUH3as0Mi3mV06Yi8poCcw1Q/viewform?utm_source=fu_case_club',\n",
              " 'https://docs.google.com/forms/d/e/1FAIpQLSfKtUbT3qzkRLLYP0tOfvlRHqiUH3as0Mi3mV06Yi8poCcw1Q/viewform?utm_source=hse_case_club',\n",
              " 'https://docs.google.com/forms/d/e/1FAIpQLSfKtUbT3qzkRLLYP0tOfvlRHqiUH3as0Mi3mV06Yi8poCcw1Q/viewform?utm_source=brainz_croc',\n",
              " '',\n",
              " '',\n",
              " 'https://docs.google.com/forms/d/e/1FAIpQLSfKtUbT3qzkRLLYP0tOfvlRHqiUH3as0Mi3mV06Yi8poCcw1Q/viewform?utm_source=case_club',\n",
              " 'https://docs.google.com/forms/d/e/1FAIpQLSfKtUbT3qzkRLLYP0tOfvlRHqiUH3as0Mi3mV06Yi8poCcw1Q/viewform?utm_source=career_ideit',\n",
              " 'https://docs.google.com/forms/d/e/1FAIpQLSfKtUbT3qzkRLLYP0tOfvlRHqiUH3as0Mi3mV06Yi8poCcw1Q/viewform?utm_source=fairway',\n",
              " 'https://docs.google.com/forms/d/e/1FAIpQLSfKtUbT3qzkRLLYP0tOfvlRHqiUH3as0Mi3mV06Yi8poCcw1Q/viewform?utm_source=sno',\n",
              " 'https://docs.google.com/forms/d/e/1FAIpQLSfKtUbT3qzkRLLYP0tOfvlRHqiUH3as0Mi3mV06Yi8poCcw1Q/viewform?utm_source=cvsk',\n",
              " 'https://docs.google.com/forms/d/e/1FAIpQLSfKtUbT3qzkRLLYP0tOfvlRHqiUH3as0Mi3mV06Yi8poCcw1Q/viewform?utm_source=ss',\n",
              " 'https://docs.google.com/forms/d/e/1FAIpQLSfKtUbT3qzkRLLYP0tOfvlRHqiUH3as0Mi3mV06Yi8poCcw1Q/viewform?utm_source=ideit',\n",
              " 'https://docs.google.com/forms/d/e/1FAIpQLSfKtUbT3qzkRLLYP0tOfvlRHqiUH3as0Mi3mV06Yi8poCcw1Q/viewform?utm_source=viewform']"
            ]
          },
          "metadata": {},
          "execution_count": 11
        }
      ]
    },
    {
      "cell_type": "code",
      "source": [
        "links = create_short_links(data)\n",
        "links\n",
        "\n"
      ],
      "metadata": {
        "id": "uZLUHfuT4WPb",
        "colab": {
          "base_uri": "https://localhost:8080/"
        },
        "outputId": "59b20670-5e88-4b2a-8ceb-90fc24c61fa7"
      },
      "execution_count": null,
      "outputs": [
        {
          "output_type": "execute_result",
          "data": {
            "text/plain": [
              "['https://vk.cc/cbcYsA',\n",
              " 'https://vk.cc/cbfQxC',\n",
              " 'https://vk.cc/cbfQxH',\n",
              " 'https://vk.cc/cbfQxR',\n",
              " 'https://vk.cc/cbfQxU',\n",
              " 'https://vk.cc/cbfQxW',\n",
              " 'https://vk.cc/cbfQxX',\n",
              " 'https://vk.cc/cbfQy2',\n",
              " 'https://vk.cc/cbfQy3',\n",
              " 'https://vk.cc/cbfQy8',\n",
              " 'https://vk.cc/cbfQyb',\n",
              " 'https://vk.cc/cbfQyf',\n",
              " 'https://vk.cc/cbfQyj',\n",
              " 'https://vk.cc/cbfQyn',\n",
              " 'https://vk.cc/cbfQyr',\n",
              " 'https://vk.cc/cbfQyw',\n",
              " 'https://vk.cc/cbfQyD',\n",
              " 'https://vk.cc/cbfQyI',\n",
              " 'https://vk.cc/cbfQyY',\n",
              " 'https://vk.cc/cbfQz7',\n",
              " 'https://vk.cc/cbfQzb',\n",
              " 'https://vk.cc/c6tKFB',\n",
              " 'https://vk.cc/c6tKGT',\n",
              " 'https://vk.cc/c6tKHY',\n",
              " 'https://vk.cc/c6tKMe',\n",
              " 'https://vk.cc/cbfQzy',\n",
              " 'https://vk.cc/cbfRBZ']"
            ]
          },
          "metadata": {},
          "execution_count": 12
        }
      ]
    },
    {
      "cell_type": "code",
      "source": [
        "abb = [x for x in abb if str(x) != \"nan\"]\n",
        "data = [x for x in data if str(x) != \"nan\"]\n",
        "\n",
        "dict = {}\n",
        "for i in range(len(abb)):\n",
        "  dict[links[i]] = abb[i]\n",
        "dict"
      ],
      "metadata": {
        "id": "fbBnhyL9SFct",
        "colab": {
          "base_uri": "https://localhost:8080/"
        },
        "outputId": "b72b5bc1-418a-4146-f160-9962acd8e49f"
      },
      "execution_count": null,
      "outputs": [
        {
          "output_type": "execute_result",
          "data": {
            "text/plain": [
              "{'https://vk.cc/c6tKFB': 'fairway',\n",
              " 'https://vk.cc/c6tKGT': 'sno',\n",
              " 'https://vk.cc/c6tKHY': 'cvsk',\n",
              " 'https://vk.cc/c6tKMe': 'ss',\n",
              " 'https://vk.cc/cbcYsA': 'it_works',\n",
              " 'https://vk.cc/cbfQxC': 'career_hse',\n",
              " 'https://vk.cc/cbfQxH': 'career_mipi',\n",
              " 'https://vk.cc/cbfQxR': 'cc_fin',\n",
              " 'https://vk.cc/cbfQxU': 'cc_mipi',\n",
              " 'https://vk.cc/cbfQxW': 'training_mipi',\n",
              " 'https://vk.cc/cbfQxX': 'career_bauman',\n",
              " 'https://vk.cc/cbfQy2': 'career_n_entrepreneurship',\n",
              " 'https://vk.cc/cbfQy3': 'inst_inf_tech',\n",
              " 'https://vk.cc/cbfQy8': 'career_mirea',\n",
              " 'https://vk.cc/cbfQyD': 'fu_case_club',\n",
              " 'https://vk.cc/cbfQyI': 'hse_case_club',\n",
              " 'https://vk.cc/cbfQyY': 'brainz_croc',\n",
              " 'https://vk.cc/cbfQyb': 'sno_fin',\n",
              " 'https://vk.cc/cbfQyf': 'cc_guu',\n",
              " 'https://vk.cc/cbfQyj': 'ds_ru',\n",
              " 'https://vk.cc/cbfQyn': 'datapedia',\n",
              " 'https://vk.cc/cbfQyr': 'datascience',\n",
              " 'https://vk.cc/cbfQyw': 'fu_case_school',\n",
              " 'https://vk.cc/cbfQz7': 'case_club',\n",
              " 'https://vk.cc/cbfQzb': 'career_ideit',\n",
              " 'https://vk.cc/cbfQzy': 'ideit',\n",
              " 'https://vk.cc/cbfRBZ': 'viewform'}"
            ]
          },
          "metadata": {},
          "execution_count": 13
        }
      ]
    },
    {
      "cell_type": "code",
      "source": [
        "i = 2\n",
        "print(links[i], dict[links[i]])\n",
        "visualize_stats(links[i], title_name=dict[links[i]])"
      ],
      "metadata": {
        "colab": {
          "base_uri": "https://localhost:8080/",
          "height": 336
        },
        "id": "tIOG3p0E9fgc",
        "outputId": "12e8136a-4d81-4017-e20c-54a49c937bad"
      },
      "execution_count": 24,
      "outputs": [
        {
          "output_type": "stream",
          "name": "stdout",
          "text": [
            "https://vk.cc/cbfQxH career_mipi\n"
          ]
        },
        {
          "output_type": "display_data",
          "data": {
            "image/png": "[encoded data removed]",
            "text/plain": [
              "<Figure size 432x288 with 1 Axes>"
            ]
          },
          "metadata": {
            "needs_background": "light"
          }
        }
      ]
    }
  ],
  "metadata": {
    "colab": {
      "collapsed_sections": [],
      "name": "vk_analysis",
      "provenance": []
    },
    "kernelspec": {
      "display_name": "Python 3",
      "language": "python",
      "name": "python3"
    },
    "language_info": {
      "codemirror_mode": {
        "name": "ipython",
        "version": 3
      },
      "file_extension": ".py",
      "mimetype": "text/x-python",
      "name": "python",
      "nbconvert_exporter": "python",
      "pygments_lexer": "ipython3",
      "version": "3.7.4"
    }
  },
  "nbformat": 4,
  "nbformat_minor": 0
}